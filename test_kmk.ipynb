{
 "cells": [
  {
   "cell_type": "code",
   "execution_count": 1,
   "metadata": {},
   "outputs": [
    {
     "name": "stdout",
     "output_type": "stream",
     "text": [
      "Collecting pandas\n",
      "  Downloading pandas-2.2.3-cp311-cp311-macosx_11_0_arm64.whl.metadata (89 kB)\n",
      "Collecting numpy>=1.23.2 (from pandas)\n",
      "  Downloading numpy-2.1.2-cp311-cp311-macosx_11_0_arm64.whl.metadata (114 kB)\n",
      "Requirement already satisfied: python-dateutil>=2.8.2 in /opt/anaconda3/envs/cmm/lib/python3.11/site-packages (from pandas) (2.9.0.post0)\n",
      "Requirement already satisfied: pytz>=2020.1 in /opt/anaconda3/envs/cmm/lib/python3.11/site-packages (from pandas) (2024.1)\n",
      "Collecting tzdata>=2022.7 (from pandas)\n",
      "  Downloading tzdata-2024.2-py2.py3-none-any.whl.metadata (1.4 kB)\n",
      "Requirement already satisfied: six>=1.5 in /opt/anaconda3/envs/cmm/lib/python3.11/site-packages (from python-dateutil>=2.8.2->pandas) (1.16.0)\n",
      "Downloading pandas-2.2.3-cp311-cp311-macosx_11_0_arm64.whl (11.3 MB)\n",
      "\u001b[2K   \u001b[90m━━━━━━━━━━━━━━━━━━━━━━━━━━━━━━━━━━━━━━━━\u001b[0m \u001b[32m11.3/11.3 MB\u001b[0m \u001b[31m17.9 MB/s\u001b[0m eta \u001b[36m0:00:00\u001b[0ma \u001b[36m0:00:01\u001b[0m\n",
      "\u001b[?25hDownloading numpy-2.1.2-cp311-cp311-macosx_11_0_arm64.whl (13.8 MB)\n",
      "\u001b[2K   \u001b[90m━━━━━━━━━━━━━━━━━━━━━━━━━━━━━━━━━━━━━━━━\u001b[0m \u001b[32m13.8/13.8 MB\u001b[0m \u001b[31m20.6 MB/s\u001b[0m eta \u001b[36m0:00:00\u001b[0ma \u001b[36m0:00:01\u001b[0m\n",
      "\u001b[?25hDownloading tzdata-2024.2-py2.py3-none-any.whl (346 kB)\n",
      "Installing collected packages: tzdata, numpy, pandas\n",
      "Successfully installed numpy-2.1.2 pandas-2.2.3 tzdata-2024.2\n"
     ]
    }
   ],
   "source": [
    "!pip install pandas\n",
    "\n"
   ]
  },
  {
   "cell_type": "markdown",
   "metadata": {},
   "source": [
    "###Series"
   ]
  },
  {
   "cell_type": "markdown",
   "metadata": {},
   "source": [
    "###Series "
   ]
  },
  {
   "cell_type": "code",
   "execution_count": null,
   "metadata": {},
   "outputs": [],
   "source": []
  },
  {
   "cell_type": "code",
   "execution_count": 3,
   "metadata": {},
   "outputs": [
    {
     "data": {
      "text/plain": [
       "1    20\n",
       "2    30\n",
       "3    40\n",
       "4    50\n",
       "dtype: int64"
      ]
     },
     "execution_count": 3,
     "metadata": {},
     "output_type": "execute_result"
    }
   ],
   "source": [
    "import pandas as pd\n",
    "\n",
    "index = [1,2,3,4]\n",
    "data = [20,30,40,50]\n",
    "\n",
    "pd.Series(data, index=index)"
   ]
  },
  {
   "cell_type": "code",
   "execution_count": 5,
   "metadata": {},
   "outputs": [
    {
     "name": "stdout",
     "output_type": "stream",
     "text": [
      "Requirement already satisfied: numpy in /opt/anaconda3/envs/cmm/lib/python3.11/site-packages (2.1.2)\n"
     ]
    }
   ],
   "source": [
    "!pip install numpy"
   ]
  },
  {
   "cell_type": "markdown",
   "metadata": {},
   "source": [
    "### Dataframe"
   ]
  },
  {
   "cell_type": "code",
   "execution_count": 12,
   "metadata": {},
   "outputs": [
    {
     "data": {
      "text/html": [
       "<div>\n",
       "<style scoped>\n",
       "    .dataframe tbody tr th:only-of-type {\n",
       "        vertical-align: middle;\n",
       "    }\n",
       "\n",
       "    .dataframe tbody tr th {\n",
       "        vertical-align: top;\n",
       "    }\n",
       "\n",
       "    .dataframe thead th {\n",
       "        text-align: right;\n",
       "    }\n",
       "</style>\n",
       "<table border=\"1\" class=\"dataframe\">\n",
       "  <thead>\n",
       "    <tr style=\"text-align: right;\">\n",
       "      <th></th>\n",
       "      <th>Region</th>\n",
       "      <th>Year</th>\n",
       "      <th>Popultaion</th>\n",
       "    </tr>\n",
       "  </thead>\n",
       "  <tbody>\n",
       "    <tr>\n",
       "      <th>0</th>\n",
       "      <td>대전</td>\n",
       "      <td>2015</td>\n",
       "      <td>1542</td>\n",
       "    </tr>\n",
       "    <tr>\n",
       "      <th>1</th>\n",
       "      <td>대전</td>\n",
       "      <td>2016</td>\n",
       "      <td>1535</td>\n",
       "    </tr>\n",
       "    <tr>\n",
       "      <th>2</th>\n",
       "      <td>대전</td>\n",
       "      <td>2017</td>\n",
       "      <td>1531</td>\n",
       "    </tr>\n",
       "    <tr>\n",
       "      <th>3</th>\n",
       "      <td>서울</td>\n",
       "      <td>2015</td>\n",
       "      <td>9941</td>\n",
       "    </tr>\n",
       "    <tr>\n",
       "      <th>4</th>\n",
       "      <td>서울</td>\n",
       "      <td>2016</td>\n",
       "      <td>9852</td>\n",
       "    </tr>\n",
       "    <tr>\n",
       "      <th>5</th>\n",
       "      <td>서울</td>\n",
       "      <td>2017</td>\n",
       "      <td>9776</td>\n",
       "    </tr>\n",
       "  </tbody>\n",
       "</table>\n",
       "</div>"
      ],
      "text/plain": [
       "  Region  Year  Popultaion\n",
       "0     대전  2015        1542\n",
       "1     대전  2016        1535\n",
       "2     대전  2017        1531\n",
       "3     서울  2015        9941\n",
       "4     서울  2016        9852\n",
       "5     서울  2017        9776"
      ]
     },
     "execution_count": 12,
     "metadata": {},
     "output_type": "execute_result"
    }
   ],
   "source": [
    "import pandas as pd\n",
    "data = {'Region':['대전','대전','대전','서울','서울','서울'],\n",
    "        'Year':[2015,2016,2017,2015,2016,2017],\n",
    "        'Popultaion':[1542,1535,1531,9941,9852,9776]}\n",
    "\n",
    "df= pd.DataFrame(data)\n",
    "df"
   ]
  },
  {
   "cell_type": "code",
   "execution_count": 13,
   "metadata": {},
   "outputs": [
    {
     "data": {
      "text/plain": [
       "['Region', 'Year', 'Popultaion']"
      ]
     },
     "execution_count": 13,
     "metadata": {},
     "output_type": "execute_result"
    }
   ],
   "source": [
    "#columns\n",
    "\n",
    "list(df.columns)\n"
   ]
  },
  {
   "cell_type": "code",
   "execution_count": 17,
   "metadata": {},
   "outputs": [
    {
     "data": {
      "text/html": [
       "<div>\n",
       "<style scoped>\n",
       "    .dataframe tbody tr th:only-of-type {\n",
       "        vertical-align: middle;\n",
       "    }\n",
       "\n",
       "    .dataframe tbody tr th {\n",
       "        vertical-align: top;\n",
       "    }\n",
       "\n",
       "    .dataframe thead th {\n",
       "        text-align: right;\n",
       "    }\n",
       "</style>\n",
       "<table border=\"1\" class=\"dataframe\">\n",
       "  <thead>\n",
       "    <tr style=\"text-align: right;\">\n",
       "      <th></th>\n",
       "      <th>Region</th>\n",
       "      <th>Year</th>\n",
       "    </tr>\n",
       "  </thead>\n",
       "  <tbody>\n",
       "    <tr>\n",
       "      <th>0</th>\n",
       "      <td>대전</td>\n",
       "      <td>2015</td>\n",
       "    </tr>\n",
       "    <tr>\n",
       "      <th>1</th>\n",
       "      <td>대전</td>\n",
       "      <td>2016</td>\n",
       "    </tr>\n",
       "    <tr>\n",
       "      <th>2</th>\n",
       "      <td>대전</td>\n",
       "      <td>2017</td>\n",
       "    </tr>\n",
       "    <tr>\n",
       "      <th>3</th>\n",
       "      <td>서울</td>\n",
       "      <td>2015</td>\n",
       "    </tr>\n",
       "    <tr>\n",
       "      <th>4</th>\n",
       "      <td>서울</td>\n",
       "      <td>2016</td>\n",
       "    </tr>\n",
       "    <tr>\n",
       "      <th>5</th>\n",
       "      <td>서울</td>\n",
       "      <td>2017</td>\n",
       "    </tr>\n",
       "  </tbody>\n",
       "</table>\n",
       "</div>"
      ],
      "text/plain": [
       "  Region  Year\n",
       "0     대전  2015\n",
       "1     대전  2016\n",
       "2     대전  2017\n",
       "3     서울  2015\n",
       "4     서울  2016\n",
       "5     서울  2017"
      ]
     },
     "execution_count": 17,
     "metadata": {},
     "output_type": "execute_result"
    }
   ],
   "source": [
    "df[['Region','Year']]\n"
   ]
  },
  {
   "cell_type": "code",
   "execution_count": 22,
   "metadata": {},
   "outputs": [
    {
     "data": {
      "text/plain": [
       "0    2015\n",
       "1    2016\n",
       "2    2017\n",
       "3    2015\n",
       "4    2016\n",
       "5    2017\n",
       "Name: Year, dtype: int64"
      ]
     },
     "execution_count": 22,
     "metadata": {},
     "output_type": "execute_result"
    }
   ],
   "source": [
    "#loc/ iloc\n",
    "\n",
    "df.loc[:, 'Year']"
   ]
  },
  {
   "cell_type": "code",
   "execution_count": 23,
   "metadata": {},
   "outputs": [
    {
     "data": {
      "text/html": [
       "<div>\n",
       "<style scoped>\n",
       "    .dataframe tbody tr th:only-of-type {\n",
       "        vertical-align: middle;\n",
       "    }\n",
       "\n",
       "    .dataframe tbody tr th {\n",
       "        vertical-align: top;\n",
       "    }\n",
       "\n",
       "    .dataframe thead th {\n",
       "        text-align: right;\n",
       "    }\n",
       "</style>\n",
       "<table border=\"1\" class=\"dataframe\">\n",
       "  <thead>\n",
       "    <tr style=\"text-align: right;\">\n",
       "      <th></th>\n",
       "      <th>Region</th>\n",
       "      <th>Year</th>\n",
       "      <th>Popultaion</th>\n",
       "      <th>Country</th>\n",
       "    </tr>\n",
       "  </thead>\n",
       "  <tbody>\n",
       "    <tr>\n",
       "      <th>0</th>\n",
       "      <td>대전</td>\n",
       "      <td>2015</td>\n",
       "      <td>1542</td>\n",
       "      <td>Korea</td>\n",
       "    </tr>\n",
       "    <tr>\n",
       "      <th>1</th>\n",
       "      <td>대전</td>\n",
       "      <td>2016</td>\n",
       "      <td>1535</td>\n",
       "      <td>Korea</td>\n",
       "    </tr>\n",
       "    <tr>\n",
       "      <th>2</th>\n",
       "      <td>대전</td>\n",
       "      <td>2017</td>\n",
       "      <td>1531</td>\n",
       "      <td>Korea</td>\n",
       "    </tr>\n",
       "    <tr>\n",
       "      <th>3</th>\n",
       "      <td>서울</td>\n",
       "      <td>2015</td>\n",
       "      <td>9941</td>\n",
       "      <td>Korea</td>\n",
       "    </tr>\n",
       "    <tr>\n",
       "      <th>4</th>\n",
       "      <td>서울</td>\n",
       "      <td>2016</td>\n",
       "      <td>9852</td>\n",
       "      <td>Korea</td>\n",
       "    </tr>\n",
       "    <tr>\n",
       "      <th>5</th>\n",
       "      <td>서울</td>\n",
       "      <td>2017</td>\n",
       "      <td>9776</td>\n",
       "      <td>Korea</td>\n",
       "    </tr>\n",
       "  </tbody>\n",
       "</table>\n",
       "</div>"
      ],
      "text/plain": [
       "  Region  Year  Popultaion Country\n",
       "0     대전  2015        1542   Korea\n",
       "1     대전  2016        1535   Korea\n",
       "2     대전  2017        1531   Korea\n",
       "3     서울  2015        9941   Korea\n",
       "4     서울  2016        9852   Korea\n",
       "5     서울  2017        9776   Korea"
      ]
     },
     "execution_count": 23,
     "metadata": {},
     "output_type": "execute_result"
    }
   ],
   "source": [
    "df['Country'] = 'Korea'\n",
    "\n",
    "df"
   ]
  },
  {
   "cell_type": "code",
   "execution_count": 25,
   "metadata": {},
   "outputs": [
    {
     "data": {
      "text/html": [
       "<div>\n",
       "<style scoped>\n",
       "    .dataframe tbody tr th:only-of-type {\n",
       "        vertical-align: middle;\n",
       "    }\n",
       "\n",
       "    .dataframe tbody tr th {\n",
       "        vertical-align: top;\n",
       "    }\n",
       "\n",
       "    .dataframe thead th {\n",
       "        text-align: right;\n",
       "    }\n",
       "</style>\n",
       "<table border=\"1\" class=\"dataframe\">\n",
       "  <thead>\n",
       "    <tr style=\"text-align: right;\">\n",
       "      <th></th>\n",
       "      <th>Region</th>\n",
       "      <th>Year</th>\n",
       "      <th>Popultaion</th>\n",
       "      <th>Country</th>\n",
       "      <th>Test</th>\n",
       "    </tr>\n",
       "  </thead>\n",
       "  <tbody>\n",
       "    <tr>\n",
       "      <th>0</th>\n",
       "      <td>대전</td>\n",
       "      <td>2015</td>\n",
       "      <td>1542</td>\n",
       "      <td>Korea</td>\n",
       "      <td>0</td>\n",
       "    </tr>\n",
       "    <tr>\n",
       "      <th>1</th>\n",
       "      <td>대전</td>\n",
       "      <td>2016</td>\n",
       "      <td>1535</td>\n",
       "      <td>Korea</td>\n",
       "      <td>1</td>\n",
       "    </tr>\n",
       "    <tr>\n",
       "      <th>2</th>\n",
       "      <td>대전</td>\n",
       "      <td>2017</td>\n",
       "      <td>1531</td>\n",
       "      <td>Korea</td>\n",
       "      <td>2</td>\n",
       "    </tr>\n",
       "    <tr>\n",
       "      <th>3</th>\n",
       "      <td>서울</td>\n",
       "      <td>2015</td>\n",
       "      <td>9941</td>\n",
       "      <td>Korea</td>\n",
       "      <td>3</td>\n",
       "    </tr>\n",
       "    <tr>\n",
       "      <th>4</th>\n",
       "      <td>서울</td>\n",
       "      <td>2016</td>\n",
       "      <td>9852</td>\n",
       "      <td>Korea</td>\n",
       "      <td>4</td>\n",
       "    </tr>\n",
       "    <tr>\n",
       "      <th>5</th>\n",
       "      <td>서울</td>\n",
       "      <td>2017</td>\n",
       "      <td>9776</td>\n",
       "      <td>Korea</td>\n",
       "      <td>5</td>\n",
       "    </tr>\n",
       "  </tbody>\n",
       "</table>\n",
       "</div>"
      ],
      "text/plain": [
       "  Region  Year  Popultaion Country  Test\n",
       "0     대전  2015        1542   Korea     0\n",
       "1     대전  2016        1535   Korea     1\n",
       "2     대전  2017        1531   Korea     2\n",
       "3     서울  2015        9941   Korea     3\n",
       "4     서울  2016        9852   Korea     4\n",
       "5     서울  2017        9776   Korea     5"
      ]
     },
     "execution_count": 25,
     "metadata": {},
     "output_type": "execute_result"
    }
   ],
   "source": [
    "df['Test']=[0,1,2,3,4,5]\n",
    "\n",
    "df"
   ]
  },
  {
   "cell_type": "code",
   "execution_count": 30,
   "metadata": {},
   "outputs": [
    {
     "data": {
      "text/html": [
       "<div>\n",
       "<style scoped>\n",
       "    .dataframe tbody tr th:only-of-type {\n",
       "        vertical-align: middle;\n",
       "    }\n",
       "\n",
       "    .dataframe tbody tr th {\n",
       "        vertical-align: top;\n",
       "    }\n",
       "\n",
       "    .dataframe thead th {\n",
       "        text-align: right;\n",
       "    }\n",
       "</style>\n",
       "<table border=\"1\" class=\"dataframe\">\n",
       "  <thead>\n",
       "    <tr style=\"text-align: right;\">\n",
       "      <th></th>\n",
       "      <th>Region</th>\n",
       "      <th>Year</th>\n",
       "      <th>Popultaion</th>\n",
       "      <th>Country</th>\n",
       "      <th>Test</th>\n",
       "    </tr>\n",
       "  </thead>\n",
       "  <tbody>\n",
       "    <tr>\n",
       "      <th>0</th>\n",
       "      <td>대전</td>\n",
       "      <td>2015</td>\n",
       "      <td>1542</td>\n",
       "      <td>Korea</td>\n",
       "      <td>0</td>\n",
       "    </tr>\n",
       "    <tr>\n",
       "      <th>1</th>\n",
       "      <td>대전</td>\n",
       "      <td>2016</td>\n",
       "      <td>1535</td>\n",
       "      <td>Korea</td>\n",
       "      <td>1</td>\n",
       "    </tr>\n",
       "    <tr>\n",
       "      <th>2</th>\n",
       "      <td>대전</td>\n",
       "      <td>2017</td>\n",
       "      <td>1531</td>\n",
       "      <td>Korea</td>\n",
       "      <td>2</td>\n",
       "    </tr>\n",
       "  </tbody>\n",
       "</table>\n",
       "</div>"
      ],
      "text/plain": [
       "  Region  Year  Popultaion Country  Test\n",
       "0     대전  2015        1542   Korea     0\n",
       "1     대전  2016        1535   Korea     1\n",
       "2     대전  2017        1531   Korea     2"
      ]
     },
     "execution_count": 30,
     "metadata": {},
     "output_type": "execute_result"
    }
   ],
   "source": [
    "##condition\n",
    "\n",
    "df[(df['Region']=='대전') | (df['Year']==2025)]"
   ]
  },
  {
   "cell_type": "code",
   "execution_count": 41,
   "metadata": {},
   "outputs": [],
   "source": [
    "#값 지우기\n",
    "\n",
    "# df.drop(columns='Test')"
   ]
  },
  {
   "cell_type": "markdown",
   "metadata": {},
   "source": [
    "## 27일까지 과제"
   ]
  },
  {
   "cell_type": "markdown",
   "metadata": {},
   "source": [
    "### Library Import"
   ]
  },
  {
   "cell_type": "code",
   "execution_count": null,
   "metadata": {},
   "outputs": [],
   "source": [
    "'''\n",
    "numpy 라이브러리를 np, pandas 라이브러리를 pd로 import 해오기\n",
    "'''\n",
    "import numpy as np\n",
    "import pandas as pd"
   ]
  },
  {
   "cell_type": "markdown",
   "metadata": {},
   "source": [
    "### 데이터프레임 생성\n"
   ]
  },
  {
   "cell_type": "code",
   "execution_count": 3,
   "metadata": {},
   "outputs": [
    {
     "name": "stdout",
     "output_type": "stream",
     "text": [
      "          A         B         C  D\n",
      "0  0.374540  1.579213  0.304242  2\n",
      "1  0.950714  0.767435  0.524756  6\n",
      "2  0.731994 -0.469474  0.431945  3\n",
      "3  0.598658  0.542560  0.291229  8\n",
      "4  0.156019 -0.463418  0.611853  2\n",
      "5  0.155995 -0.465730  0.139494  4\n"
     ]
    }
   ],
   "source": [
    "'''\n",
    "4x6 (column # - 5, row # - 6) dataframe 생성, 이름 = df_test\n",
    "column 이름 - A, B, C, D\n",
    "값 - numpy\n",
    "\n",
    "Column A - numpy.random 모듈에 있는 random 함수 사용하여 값 분배\n",
    "Column B - numpy.random 모듈에 있는 randn 함수 사용하여 값 분배\n",
    "Column C - numpy.random 모듈에 있는 rand 함수 사용하여 값 분배\n",
    "Column D - numpy.random 모듈에 있는 randint 함수 사용하여 값 분배 (low = 0, high = 10)\n",
    "\n",
    "- 해당 함수마다 어떤 알고리즘으로 난수를 생성하는지 확인\n",
    "'''\n",
    "import numpy as np\n",
    "import pandas as pd\n",
    "\n",
    "np.random.seed(42)\n",
    "\n",
    "df_test = pd.DataFrame({\n",
    "    'A': np.random.random(6),          \n",
    "    'B': np.random.randn(6),            \n",
    "    'C': np.random.rand(6),            \n",
    "    'D': np.random.randint(0, 10, 6)    })\n",
    "\n",
    "print(df_test)\n"
   ]
  },
  {
   "cell_type": "markdown",
   "metadata": {},
   "source": [
    "### Apply 함수"
   ]
  },
  {
   "cell_type": "code",
   "execution_count": null,
   "metadata": {},
   "outputs": [
    {
     "name": "stdout",
     "output_type": "stream",
     "text": [
      "          A         B         C  D    E         F         G         H\n",
      "0  0.374540  1.579213  0.304242  2  2.0  0.304242  1.695758  1.064499\n",
      "1  0.950714  0.767435  0.524756  6  6.0  0.524756  5.475244  2.060726\n",
      "2  0.731994 -0.469474  0.431945  3  3.0 -0.469474  3.469474  0.923616\n",
      "3  0.598658  0.542560  0.291229  8  8.0  0.291229  7.708771  2.358112\n",
      "4  0.156019 -0.463418  0.611853  2  2.0 -0.463418  2.463418  0.576113\n",
      "5  0.155995 -0.465730  0.139494  4  4.0 -0.465730  4.465730  0.957440\n"
     ]
    }
   ],
   "source": [
    "'''\n",
    "Column E - Row 마다 Column A, B, C, D중 최댓값\n",
    "Column F - Row 마다 Column A, B, C, D중 최솟값\n",
    "Column G - Row 마다 Column A, B, C, D중 최댓값 - 최솟값\n",
    "Column H - Row 마다 Column A, B, C, D중 평균값\n",
    "\n",
    "Key - Column A, B, C, D만 반영해야함\n",
    "'''\n",
    "\n",
    "import numpy as np\n",
    "import pandas as pd\n",
    "\n",
    "np.random.seed(42)\n",
    "\n",
    "df_test = pd.DataFrame({\n",
    "    'A': np.random.random(6),\n",
    "    'B': np.random.randn(6),\n",
    "    'C': np.random.rand(6),\n",
    "    'D': np.random.randint(0, 10, 6)\n",
    "})\n",
    "\n",
    "df_test['E'] = df_test[['A', 'B', 'C', 'D']].apply(lambda x: max(x),axis=1)\n",
    "df_test['F'] = df_test[['A', 'B', 'C', 'D']].min(axis=1)\n",
    "df_test['G'] = df_test['E'] - df_test['F']\n",
    "df_test['H'] = df_test[['A', 'B', 'C', 'D']].mean(axis=1)\n",
    "\n",
    "print(df_test)\n"
   ]
  },
  {
   "cell_type": "markdown",
   "metadata": {},
   "source": [
    "### Groupby"
   ]
  },
  {
   "cell_type": "code",
   "execution_count": null,
   "metadata": {},
   "outputs": [
    {
     "name": "stdout",
     "output_type": "stream",
     "text": [
      "            max       min\n",
      "Group                    \n",
      "A      0.524756  0.304242\n",
      "B      0.611853  0.139494\n",
      "  Group         A         B         C  D    E         F         G         H  \\\n",
      "0     A  0.374540  1.579213  0.304242  2  2.0  0.304242  1.695758  1.064499   \n",
      "1     A  0.950714  0.767435  0.524756  6  6.0  0.524756  5.475244  2.060726   \n",
      "2     A  0.731994 -0.469474  0.431945  3  3.0 -0.469474  3.469474  0.923616   \n",
      "3     B  0.598658  0.542560  0.291229  8  8.0  0.291229  7.708771  2.358112   \n",
      "4     B  0.156019 -0.463418  0.611853  2  2.0 -0.463418  2.463418  0.576113   \n",
      "5     B  0.155995 -0.465730  0.139494  4  4.0 -0.465730  4.465730  0.957440   \n",
      "\n",
      "          I  \n",
      "0  0.685749  \n",
      "1  0.685749  \n",
      "2  0.685749  \n",
      "3  0.303557  \n",
      "4  0.303557  \n",
      "5  0.303557  \n"
     ]
    }
   ],
   "source": [
    "'''\n",
    "1. Column A 앞에 ['A', 'A', 'A', 'B', 'B', 'B'] 리스트를 column이름 Group에 생성 (H 이후에 생성 X)\n",
    "\n",
    "2. Group값별로 Column C의 Max / Min 구해보기 (출력만 하기)\n",
    "\n",
    "3. Column I - Group값별로 Column A의 평균값\n",
    "'''\n",
    "import numpy as np\n",
    "import pandas as pd\n",
    "\n",
    "np.random.seed(42)\n",
    "\n",
    "df_test = pd.DataFrame({\n",
    "    'A': np.random.random(6),\n",
    "    'B': np.random.randn(6),\n",
    "    'C': np.random.rand(6),\n",
    "    'D': np.random.randint(0, 10, 6)\n",
    "})\n",
    "\n",
    "df_test['E'] = df_test[['A', 'B', 'C', 'D']].max(axis=1)\n",
    "df_test['F'] = df_test[['A', 'B', 'C', 'D']].min(axis=1)\n",
    "df_test['G'] = df_test['E'] - df_test['F']\n",
    "df_test['H'] = df_test[['A', 'B', 'C', 'D']].mean(axis=1)\n",
    "\n",
    "df_test.insert(0, 'Group', ['A', 'A', 'A', 'B', 'B', 'B'])\n",
    "\n",
    "grouped_C = df_test.groupby('Group')['C'].agg(['max', 'min'])\n",
    "print(grouped_C)\n",
    "\n",
    "df_test['I'] = df_test.groupby('Group')['A'].transform('mean')\n",
    "\n",
    "print(df_test)\n"
   ]
  },
  {
   "cell_type": "code",
   "execution_count": null,
   "metadata": {},
   "outputs": [],
   "source": []
  }
 ],
 "metadata": {
  "kernelspec": {
   "display_name": "cmm",
   "language": "python",
   "name": "python3"
  },
  "language_info": {
   "codemirror_mode": {
    "name": "ipython",
    "version": 3
   },
   "file_extension": ".py",
   "mimetype": "text/x-python",
   "name": "python",
   "nbconvert_exporter": "python",
   "pygments_lexer": "ipython3",
   "version": "3.11.9"
  }
 },
 "nbformat": 4,
 "nbformat_minor": 2
}
